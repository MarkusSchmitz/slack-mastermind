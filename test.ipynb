{
 "cells": [
  {
   "cell_type": "code",
   "execution_count": 19,
   "source": [
    "from transformers import AutoModelForCausalLM, AutoTokenizer, pipeline\n",
    "\n",
    "tokenizer = AutoTokenizer.from_pretrained(\"benjamin/gerpt2\")\n",
    "model = AutoModelForCausalLM.from_pretrained(\"benjamin/gerpt2\")\n",
    "\n",
    "prompt = \"Wer ist heute Nachmittag/Abend beim See dabei?\"\n",
    "\n",
    "#pipe = pipeline(\"text-generation\", model=model, tokenizer=tokenizer)\n",
    "#print(pipe(prompt)[0][\"generated_text\"])\n",
    "\n",
    "print(len(prompt))\n",
    "\n",
    "\n",
    "output = model.generate(\n",
    "    # during training an EOS token was used to mark the beginning of each text\n",
    "    # so it can help to insert it at the start\n",
    "    torch.tensor(\n",
    "        [tokenizer.eos_token_id] + tokenizer.encode(prompt)\n",
    "    ).unsqueeze(0),\n",
    "    do_sample=True,\n",
    "    # try setting bad_words_ids=[[0]] to disallow generating an EOS token, without this the model is\n",
    "    # prone to ending generation early because a significant number of texts from the training corpus\n",
    "    # is quite short\n",
    "    bad_words_ids=[[0]],\n",
    "    max_length=100,\n",
    ")[0]\n",
    "print(tokenizer.decode(output))"
   ],
   "outputs": [
    {
     "output_type": "stream",
     "name": "stdout",
     "text": [
      "46\n",
      "<|endoftext|>Wer ist heute Nachmittag/Abend beim See dabei?\n",
      "Am Freitag, 23. August 2018 findet um 20.00 Uhr\n",
      "„Die Welt des Kinos ist bunter und voller Leben!“\n",
      "In Kooperation mit der Deutschen Kinemathek - Museum für Filmkunst\n",
      "im Rahmen des internationalen Filmtage\n",
      "Der Film zeigt den künstlerischen Prozess des Regisseurs und Schauspielers Frank Strieck, in dessen Arbeiten der Übergang vom Kino zum Fernsehen erfolgte (auch Filme, die ausschließlich für das Fernsehen produziert wurde, wie\n"
     ]
    }
   ],
   "metadata": {}
  },
  {
   "cell_type": "code",
   "execution_count": null,
   "source": [],
   "outputs": [],
   "metadata": {}
  }
 ],
 "metadata": {
  "orig_nbformat": 4,
  "language_info": {
   "name": "python",
   "version": "3.8.11",
   "mimetype": "text/x-python",
   "codemirror_mode": {
    "name": "ipython",
    "version": 3
   },
   "pygments_lexer": "ipython3",
   "nbconvert_exporter": "python",
   "file_extension": ".py"
  },
  "kernelspec": {
   "name": "python3",
   "display_name": "Python 3.8.11  ('slackbot': conda)"
  },
  "interpreter": {
   "hash": "a1cbb438aa64add7e578907670069ff8088e18aa9ffad8e28d1af566b95d01d0"
  }
 },
 "nbformat": 4,
 "nbformat_minor": 2
}